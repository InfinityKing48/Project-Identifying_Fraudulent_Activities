{
 "cells": [
  {
   "cell_type": "markdown",
   "source": [
    "# Identifying Fraudulent Activities"
   ],
   "metadata": {
    "collapsed": false,
    "pycharm": {
     "name": "#%% md\n"
    }
   }
  },
  {
   "cell_type": "code",
   "execution_count": 1,
   "outputs": [],
   "source": [
    "import numpy as np\n",
    "import pandas as pd"
   ],
   "metadata": {
    "collapsed": false,
    "pycharm": {
     "name": "#%%\n"
    }
   }
  },
  {
   "cell_type": "markdown",
   "source": [
    "## Load Data"
   ],
   "metadata": {
    "collapsed": false,
    "pycharm": {
     "name": "#%% md\n"
    }
   }
  },
  {
   "cell_type": "code",
   "execution_count": 2,
   "outputs": [
    {
     "data": {
      "text/plain": "   user_id         signup_time       purchase_time  purchase_value  \\\n0    22058 2015-02-24 22:55:00 2015-04-18 02:47:00              34   \n1   333320 2015-06-07 20:39:00 2015-06-08 01:38:00              16   \n2     1359 2015-01-01 18:52:00 2015-01-01 18:52:00              15   \n3   150084 2015-04-28 21:13:00 2015-05-04 13:54:00              44   \n4   221365 2015-07-21 07:09:00 2015-09-09 18:40:00              39   \n\n       device_id source browser sex  age    ip_address  class  \n0  QVPSPJUOCKZAR    SEO  Chrome   M   39  7.327584e+08      0  \n1  EOGFQPIZPYXFZ    Ads  Chrome   F   53  3.503114e+08      0  \n2  YSSKYOSJHPPLJ    SEO   Opera   M   53  2.621474e+09      1  \n3  ATGTXKYKUDUQN    SEO  Safari   M   41  3.840542e+09      0  \n4  NAUITBZFJKHWW    Ads  Safari   M   45  4.155831e+08      0  ",
      "text/html": "<div>\n<style scoped>\n    .dataframe tbody tr th:only-of-type {\n        vertical-align: middle;\n    }\n\n    .dataframe tbody tr th {\n        vertical-align: top;\n    }\n\n    .dataframe thead th {\n        text-align: right;\n    }\n</style>\n<table border=\"1\" class=\"dataframe\">\n  <thead>\n    <tr style=\"text-align: right;\">\n      <th></th>\n      <th>user_id</th>\n      <th>signup_time</th>\n      <th>purchase_time</th>\n      <th>purchase_value</th>\n      <th>device_id</th>\n      <th>source</th>\n      <th>browser</th>\n      <th>sex</th>\n      <th>age</th>\n      <th>ip_address</th>\n      <th>class</th>\n    </tr>\n  </thead>\n  <tbody>\n    <tr>\n      <th>0</th>\n      <td>22058</td>\n      <td>2015-02-24 22:55:00</td>\n      <td>2015-04-18 02:47:00</td>\n      <td>34</td>\n      <td>QVPSPJUOCKZAR</td>\n      <td>SEO</td>\n      <td>Chrome</td>\n      <td>M</td>\n      <td>39</td>\n      <td>7.327584e+08</td>\n      <td>0</td>\n    </tr>\n    <tr>\n      <th>1</th>\n      <td>333320</td>\n      <td>2015-06-07 20:39:00</td>\n      <td>2015-06-08 01:38:00</td>\n      <td>16</td>\n      <td>EOGFQPIZPYXFZ</td>\n      <td>Ads</td>\n      <td>Chrome</td>\n      <td>F</td>\n      <td>53</td>\n      <td>3.503114e+08</td>\n      <td>0</td>\n    </tr>\n    <tr>\n      <th>2</th>\n      <td>1359</td>\n      <td>2015-01-01 18:52:00</td>\n      <td>2015-01-01 18:52:00</td>\n      <td>15</td>\n      <td>YSSKYOSJHPPLJ</td>\n      <td>SEO</td>\n      <td>Opera</td>\n      <td>M</td>\n      <td>53</td>\n      <td>2.621474e+09</td>\n      <td>1</td>\n    </tr>\n    <tr>\n      <th>3</th>\n      <td>150084</td>\n      <td>2015-04-28 21:13:00</td>\n      <td>2015-05-04 13:54:00</td>\n      <td>44</td>\n      <td>ATGTXKYKUDUQN</td>\n      <td>SEO</td>\n      <td>Safari</td>\n      <td>M</td>\n      <td>41</td>\n      <td>3.840542e+09</td>\n      <td>0</td>\n    </tr>\n    <tr>\n      <th>4</th>\n      <td>221365</td>\n      <td>2015-07-21 07:09:00</td>\n      <td>2015-09-09 18:40:00</td>\n      <td>39</td>\n      <td>NAUITBZFJKHWW</td>\n      <td>Ads</td>\n      <td>Safari</td>\n      <td>M</td>\n      <td>45</td>\n      <td>4.155831e+08</td>\n      <td>0</td>\n    </tr>\n  </tbody>\n</table>\n</div>"
     },
     "execution_count": 2,
     "metadata": {},
     "output_type": "execute_result"
    }
   ],
   "source": [
    "data = pd.read_csv('Fraud_Data.csv', parse_dates=['signup_time', 'purchase_time'])\n",
    "data.head()"
   ],
   "metadata": {
    "collapsed": false,
    "pycharm": {
     "name": "#%%\n"
    }
   }
  },
  {
   "cell_type": "code",
   "execution_count": 3,
   "outputs": [
    {
     "name": "stdout",
     "output_type": "stream",
     "text": [
      "<class 'pandas.core.frame.DataFrame'>\n",
      "RangeIndex: 151112 entries, 0 to 151111\n",
      "Data columns (total 11 columns):\n",
      " #   Column          Non-Null Count   Dtype         \n",
      "---  ------          --------------   -----         \n",
      " 0   user_id         151112 non-null  int64         \n",
      " 1   signup_time     151112 non-null  datetime64[ns]\n",
      " 2   purchase_time   151112 non-null  datetime64[ns]\n",
      " 3   purchase_value  151112 non-null  int64         \n",
      " 4   device_id       151112 non-null  object        \n",
      " 5   source          151112 non-null  object        \n",
      " 6   browser         151112 non-null  object        \n",
      " 7   sex             151112 non-null  object        \n",
      " 8   age             151112 non-null  int64         \n",
      " 9   ip_address      151112 non-null  float64       \n",
      " 10  class           151112 non-null  int64         \n",
      "dtypes: datetime64[ns](2), float64(1), int64(4), object(4)\n",
      "memory usage: 12.7+ MB\n"
     ]
    }
   ],
   "source": [
    "data.info()"
   ],
   "metadata": {
    "collapsed": false,
    "pycharm": {
     "name": "#%%\n"
    }
   }
  },
  {
   "cell_type": "code",
   "execution_count": 4,
   "outputs": [
    {
     "data": {
      "text/plain": "       purchase_value            age\ncount   151112.000000  151112.000000\nmean        36.935372      33.140704\nstd         18.322762       8.617733\nmin          9.000000      18.000000\n25%         22.000000      27.000000\n50%         35.000000      33.000000\n75%         49.000000      39.000000\nmax        154.000000      76.000000",
      "text/html": "<div>\n<style scoped>\n    .dataframe tbody tr th:only-of-type {\n        vertical-align: middle;\n    }\n\n    .dataframe tbody tr th {\n        vertical-align: top;\n    }\n\n    .dataframe thead th {\n        text-align: right;\n    }\n</style>\n<table border=\"1\" class=\"dataframe\">\n  <thead>\n    <tr style=\"text-align: right;\">\n      <th></th>\n      <th>purchase_value</th>\n      <th>age</th>\n    </tr>\n  </thead>\n  <tbody>\n    <tr>\n      <th>count</th>\n      <td>151112.000000</td>\n      <td>151112.000000</td>\n    </tr>\n    <tr>\n      <th>mean</th>\n      <td>36.935372</td>\n      <td>33.140704</td>\n    </tr>\n    <tr>\n      <th>std</th>\n      <td>18.322762</td>\n      <td>8.617733</td>\n    </tr>\n    <tr>\n      <th>min</th>\n      <td>9.000000</td>\n      <td>18.000000</td>\n    </tr>\n    <tr>\n      <th>25%</th>\n      <td>22.000000</td>\n      <td>27.000000</td>\n    </tr>\n    <tr>\n      <th>50%</th>\n      <td>35.000000</td>\n      <td>33.000000</td>\n    </tr>\n    <tr>\n      <th>75%</th>\n      <td>49.000000</td>\n      <td>39.000000</td>\n    </tr>\n    <tr>\n      <th>max</th>\n      <td>154.000000</td>\n      <td>76.000000</td>\n    </tr>\n  </tbody>\n</table>\n</div>"
     },
     "execution_count": 4,
     "metadata": {},
     "output_type": "execute_result"
    }
   ],
   "source": [
    "data.describe().iloc[:, 1:3]"
   ],
   "metadata": {
    "collapsed": false,
    "pycharm": {
     "name": "#%%\n"
    }
   }
  },
  {
   "cell_type": "code",
   "execution_count": 5,
   "outputs": [
    {
     "data": {
      "text/plain": "   lower_bound_ip_address  upper_bound_ip_address    country\n0              16777216.0                16777471  Australia\n1              16777472.0                16777727      China\n2              16777728.0                16778239      China\n3              16778240.0                16779263  Australia\n4              16779264.0                16781311      China",
      "text/html": "<div>\n<style scoped>\n    .dataframe tbody tr th:only-of-type {\n        vertical-align: middle;\n    }\n\n    .dataframe tbody tr th {\n        vertical-align: top;\n    }\n\n    .dataframe thead th {\n        text-align: right;\n    }\n</style>\n<table border=\"1\" class=\"dataframe\">\n  <thead>\n    <tr style=\"text-align: right;\">\n      <th></th>\n      <th>lower_bound_ip_address</th>\n      <th>upper_bound_ip_address</th>\n      <th>country</th>\n    </tr>\n  </thead>\n  <tbody>\n    <tr>\n      <th>0</th>\n      <td>16777216.0</td>\n      <td>16777471</td>\n      <td>Australia</td>\n    </tr>\n    <tr>\n      <th>1</th>\n      <td>16777472.0</td>\n      <td>16777727</td>\n      <td>China</td>\n    </tr>\n    <tr>\n      <th>2</th>\n      <td>16777728.0</td>\n      <td>16778239</td>\n      <td>China</td>\n    </tr>\n    <tr>\n      <th>3</th>\n      <td>16778240.0</td>\n      <td>16779263</td>\n      <td>Australia</td>\n    </tr>\n    <tr>\n      <th>4</th>\n      <td>16779264.0</td>\n      <td>16781311</td>\n      <td>China</td>\n    </tr>\n  </tbody>\n</table>\n</div>"
     },
     "execution_count": 5,
     "metadata": {},
     "output_type": "execute_result"
    }
   ],
   "source": [
    "ip_country = pd.read_csv('IpAddress_to_Country.csv')\n",
    "ip_country.head()"
   ],
   "metadata": {
    "collapsed": false,
    "pycharm": {
     "name": "#%%\n"
    }
   }
  },
  {
   "cell_type": "code",
   "execution_count": 6,
   "outputs": [
    {
     "name": "stdout",
     "output_type": "stream",
     "text": [
      "<class 'pandas.core.frame.DataFrame'>\n",
      "RangeIndex: 138846 entries, 0 to 138845\n",
      "Data columns (total 3 columns):\n",
      " #   Column                  Non-Null Count   Dtype  \n",
      "---  ------                  --------------   -----  \n",
      " 0   lower_bound_ip_address  138846 non-null  float64\n",
      " 1   upper_bound_ip_address  138846 non-null  int64  \n",
      " 2   country                 138846 non-null  object \n",
      "dtypes: float64(1), int64(1), object(1)\n",
      "memory usage: 3.2+ MB\n"
     ]
    }
   ],
   "source": [
    "ip_country.info()"
   ],
   "metadata": {
    "collapsed": false,
    "pycharm": {
     "name": "#%%\n"
    }
   }
  },
  {
   "cell_type": "markdown",
   "source": [
    "## Data Preprocessing"
   ],
   "metadata": {
    "collapsed": false,
    "pycharm": {
     "name": "#%% md\n"
    }
   }
  },
  {
   "cell_type": "code",
   "execution_count": 7,
   "outputs": [],
   "source": [
    "def match_country_to_ip(ip=None):\n",
    "    match = (ip <= ip_country['upper_bound_ip_address']) & ( ip >= ip_country['lower_bound_ip_address'])\n",
    "    if match.any():\n",
    "        return ip_country['country'][match].values[0]\n",
    "    else:\n",
    "        return 'NA'"
   ],
   "metadata": {
    "collapsed": false,
    "pycharm": {
     "name": "#%%\n"
    }
   }
  },
  {
   "cell_type": "code",
   "execution_count": 8,
   "outputs": [],
   "source": [
    "data['country'] = data['ip_address'].apply(lambda x: match_country_to_ip(x))"
   ],
   "metadata": {
    "collapsed": false,
    "pycharm": {
     "name": "#%%\n"
    }
   }
  },
  {
   "cell_type": "code",
   "execution_count": 45,
   "outputs": [
    {
     "data": {
      "text/plain": "   user_id         signup_time       purchase_time  purchase_value  \\\n0    22058 2015-02-24 22:55:00 2015-04-18 02:47:00              34   \n1   333320 2015-06-07 20:39:00 2015-06-08 01:38:00              16   \n2     1359 2015-01-01 18:52:00 2015-01-01 18:52:00              15   \n3   150084 2015-04-28 21:13:00 2015-05-04 13:54:00              44   \n4   221365 2015-07-21 07:09:00 2015-09-09 18:40:00              39   \n\n       device_id source browser sex  age    ip_address  class        country  \\\n0  QVPSPJUOCKZAR    SEO  Chrome   M   39  7.327584e+08      0          Japan   \n1  EOGFQPIZPYXFZ    Ads  Chrome   F   53  3.503114e+08      0  United States   \n2  YSSKYOSJHPPLJ    SEO   Opera   M   53  2.621474e+09      1  United States   \n3  ATGTXKYKUDUQN    SEO  Safari   M   41  3.840542e+09      0             NA   \n4  NAUITBZFJKHWW    Ads  Safari   M   45  4.155831e+08      0  United States   \n\n   time_diff  device_num_x  ip_num_x  device_num_y  ip_num_y  \n0      13920             1         1             1         1  \n1      17940             1         1             1         1  \n2          0            12        12            12        12  \n3      60060             1         1             1         1  \n4      41460             1         1             1         1  ",
      "text/html": "<div>\n<style scoped>\n    .dataframe tbody tr th:only-of-type {\n        vertical-align: middle;\n    }\n\n    .dataframe tbody tr th {\n        vertical-align: top;\n    }\n\n    .dataframe thead th {\n        text-align: right;\n    }\n</style>\n<table border=\"1\" class=\"dataframe\">\n  <thead>\n    <tr style=\"text-align: right;\">\n      <th></th>\n      <th>user_id</th>\n      <th>signup_time</th>\n      <th>purchase_time</th>\n      <th>purchase_value</th>\n      <th>device_id</th>\n      <th>source</th>\n      <th>browser</th>\n      <th>sex</th>\n      <th>age</th>\n      <th>ip_address</th>\n      <th>class</th>\n      <th>country</th>\n      <th>time_diff</th>\n      <th>device_num_x</th>\n      <th>ip_num_x</th>\n      <th>device_num_y</th>\n      <th>ip_num_y</th>\n    </tr>\n  </thead>\n  <tbody>\n    <tr>\n      <th>0</th>\n      <td>22058</td>\n      <td>2015-02-24 22:55:00</td>\n      <td>2015-04-18 02:47:00</td>\n      <td>34</td>\n      <td>QVPSPJUOCKZAR</td>\n      <td>SEO</td>\n      <td>Chrome</td>\n      <td>M</td>\n      <td>39</td>\n      <td>7.327584e+08</td>\n      <td>0</td>\n      <td>Japan</td>\n      <td>13920</td>\n      <td>1</td>\n      <td>1</td>\n      <td>1</td>\n      <td>1</td>\n    </tr>\n    <tr>\n      <th>1</th>\n      <td>333320</td>\n      <td>2015-06-07 20:39:00</td>\n      <td>2015-06-08 01:38:00</td>\n      <td>16</td>\n      <td>EOGFQPIZPYXFZ</td>\n      <td>Ads</td>\n      <td>Chrome</td>\n      <td>F</td>\n      <td>53</td>\n      <td>3.503114e+08</td>\n      <td>0</td>\n      <td>United States</td>\n      <td>17940</td>\n      <td>1</td>\n      <td>1</td>\n      <td>1</td>\n      <td>1</td>\n    </tr>\n    <tr>\n      <th>2</th>\n      <td>1359</td>\n      <td>2015-01-01 18:52:00</td>\n      <td>2015-01-01 18:52:00</td>\n      <td>15</td>\n      <td>YSSKYOSJHPPLJ</td>\n      <td>SEO</td>\n      <td>Opera</td>\n      <td>M</td>\n      <td>53</td>\n      <td>2.621474e+09</td>\n      <td>1</td>\n      <td>United States</td>\n      <td>0</td>\n      <td>12</td>\n      <td>12</td>\n      <td>12</td>\n      <td>12</td>\n    </tr>\n    <tr>\n      <th>3</th>\n      <td>150084</td>\n      <td>2015-04-28 21:13:00</td>\n      <td>2015-05-04 13:54:00</td>\n      <td>44</td>\n      <td>ATGTXKYKUDUQN</td>\n      <td>SEO</td>\n      <td>Safari</td>\n      <td>M</td>\n      <td>41</td>\n      <td>3.840542e+09</td>\n      <td>0</td>\n      <td>NA</td>\n      <td>60060</td>\n      <td>1</td>\n      <td>1</td>\n      <td>1</td>\n      <td>1</td>\n    </tr>\n    <tr>\n      <th>4</th>\n      <td>221365</td>\n      <td>2015-07-21 07:09:00</td>\n      <td>2015-09-09 18:40:00</td>\n      <td>39</td>\n      <td>NAUITBZFJKHWW</td>\n      <td>Ads</td>\n      <td>Safari</td>\n      <td>M</td>\n      <td>45</td>\n      <td>4.155831e+08</td>\n      <td>0</td>\n      <td>United States</td>\n      <td>41460</td>\n      <td>1</td>\n      <td>1</td>\n      <td>1</td>\n      <td>1</td>\n    </tr>\n  </tbody>\n</table>\n</div>"
     },
     "execution_count": 45,
     "metadata": {},
     "output_type": "execute_result"
    }
   ],
   "source": [
    "data.head()"
   ],
   "metadata": {
    "collapsed": false,
    "pycharm": {
     "name": "#%%\n"
    }
   }
  },
  {
   "cell_type": "markdown",
   "source": [
    "## Feature Engineering"
   ],
   "metadata": {
    "collapsed": false,
    "pycharm": {
     "name": "#%% md\n"
    }
   }
  },
  {
   "cell_type": "code",
   "execution_count": 46,
   "outputs": [],
   "source": [
    "time_diff = data['purchase_time'] - data['signup_time']\n",
    "time_diff = time_diff.apply(lambda x: x.seconds)\n",
    "data['time_diff'] = time_diff"
   ],
   "metadata": {
    "collapsed": false,
    "pycharm": {
     "name": "#%%\n"
    }
   }
  },
  {
   "cell_type": "code",
   "execution_count": 47,
   "outputs": [],
   "source": [
    "device_num = data[['user_id', 'device_id']].groupby('device_id').count().reset_index()\n",
    "device_num = device_num.rename(columns={'user_id': 'device_num'})\n",
    "data = data.merge(device_num, how='left', on='device_id')"
   ],
   "metadata": {
    "collapsed": false,
    "pycharm": {
     "name": "#%%\n"
    }
   }
  },
  {
   "cell_type": "code",
   "execution_count": 48,
   "outputs": [],
   "source": [
    "ip_num = data[['user_id', 'ip_address']].groupby('ip_address').count().reset_index()\n",
    "ip_num = ip_num.rename(columns={'user_id': 'ip_num'})\n",
    "data = data.merge(ip_num, how='left', on='ip_address')"
   ],
   "metadata": {
    "collapsed": false,
    "pycharm": {
     "name": "#%%\n"
    }
   }
  },
  {
   "cell_type": "code",
   "execution_count": 49,
   "outputs": [],
   "source": [
    "features = ['purchase_value', 'source', 'browser', 'sex', 'age', 'country', 'time_diff', 'device_num', 'ip_num']\n",
    "label = 'class'\n",
    "X = data[features]\n",
    "y = data[label]"
   ],
   "metadata": {
    "collapsed": false,
    "pycharm": {
     "name": "#%%\n"
    }
   }
  },
  {
   "cell_type": "code",
   "execution_count": 50,
   "outputs": [
    {
     "data": {
      "text/plain": "   purchase_value source browser sex  age        country  time_diff  \\\n0              34    SEO  Chrome   M   39          Japan      13920   \n1              16    Ads  Chrome   F   53  United States      17940   \n2              15    SEO   Opera   M   53  United States          0   \n3              44    SEO  Safari   M   41             NA      60060   \n4              39    Ads  Safari   M   45  United States      41460   \n\n   device_num  ip_num  \n0           1       1  \n1           1       1  \n2          12      12  \n3           1       1  \n4           1       1  ",
      "text/html": "<div>\n<style scoped>\n    .dataframe tbody tr th:only-of-type {\n        vertical-align: middle;\n    }\n\n    .dataframe tbody tr th {\n        vertical-align: top;\n    }\n\n    .dataframe thead th {\n        text-align: right;\n    }\n</style>\n<table border=\"1\" class=\"dataframe\">\n  <thead>\n    <tr style=\"text-align: right;\">\n      <th></th>\n      <th>purchase_value</th>\n      <th>source</th>\n      <th>browser</th>\n      <th>sex</th>\n      <th>age</th>\n      <th>country</th>\n      <th>time_diff</th>\n      <th>device_num</th>\n      <th>ip_num</th>\n    </tr>\n  </thead>\n  <tbody>\n    <tr>\n      <th>0</th>\n      <td>34</td>\n      <td>SEO</td>\n      <td>Chrome</td>\n      <td>M</td>\n      <td>39</td>\n      <td>Japan</td>\n      <td>13920</td>\n      <td>1</td>\n      <td>1</td>\n    </tr>\n    <tr>\n      <th>1</th>\n      <td>16</td>\n      <td>Ads</td>\n      <td>Chrome</td>\n      <td>F</td>\n      <td>53</td>\n      <td>United States</td>\n      <td>17940</td>\n      <td>1</td>\n      <td>1</td>\n    </tr>\n    <tr>\n      <th>2</th>\n      <td>15</td>\n      <td>SEO</td>\n      <td>Opera</td>\n      <td>M</td>\n      <td>53</td>\n      <td>United States</td>\n      <td>0</td>\n      <td>12</td>\n      <td>12</td>\n    </tr>\n    <tr>\n      <th>3</th>\n      <td>44</td>\n      <td>SEO</td>\n      <td>Safari</td>\n      <td>M</td>\n      <td>41</td>\n      <td>NA</td>\n      <td>60060</td>\n      <td>1</td>\n      <td>1</td>\n    </tr>\n    <tr>\n      <th>4</th>\n      <td>39</td>\n      <td>Ads</td>\n      <td>Safari</td>\n      <td>M</td>\n      <td>45</td>\n      <td>United States</td>\n      <td>41460</td>\n      <td>1</td>\n      <td>1</td>\n    </tr>\n  </tbody>\n</table>\n</div>"
     },
     "execution_count": 50,
     "metadata": {},
     "output_type": "execute_result"
    }
   ],
   "source": [
    "X.head()"
   ],
   "metadata": {
    "collapsed": false,
    "pycharm": {
     "name": "#%%\n"
    }
   }
  },
  {
   "cell_type": "code",
   "execution_count": 51,
   "outputs": [
    {
     "data": {
      "text/plain": "   purchase_value  age  time_diff  device_num  ip_num  source_Ads  \\\n0              34   39      13920           1       1           0   \n1              16   53      17940           1       1           1   \n2              15   53          0          12      12           0   \n3              44   41      60060           1       1           0   \n4              39   45      41460           1       1           1   \n\n   source_Direct  source_SEO  browser_Chrome  browser_FireFox  ...  \\\n0              0           1               1                0  ...   \n1              0           0               1                0  ...   \n2              0           1               0                0  ...   \n3              0           1               0                0  ...   \n4              0           0               0                0  ...   \n\n   country_United States  country_Uruguay  country_Uzbekistan  \\\n0                      0                0                   0   \n1                      1                0                   0   \n2                      1                0                   0   \n3                      0                0                   0   \n4                      1                0                   0   \n\n   country_Vanuatu  country_Venezuela  country_Viet Nam  \\\n0                0                  0                 0   \n1                0                  0                 0   \n2                0                  0                 0   \n3                0                  0                 0   \n4                0                  0                 0   \n\n   country_Virgin Islands (U.S.)  country_Yemen  country_Zambia  \\\n0                              0              0               0   \n1                              0              0               0   \n2                              0              0               0   \n3                              0              0               0   \n4                              0              0               0   \n\n   country_Zimbabwe  \n0                 0  \n1                 0  \n2                 0  \n3                 0  \n4                 0  \n\n[5 rows x 197 columns]",
      "text/html": "<div>\n<style scoped>\n    .dataframe tbody tr th:only-of-type {\n        vertical-align: middle;\n    }\n\n    .dataframe tbody tr th {\n        vertical-align: top;\n    }\n\n    .dataframe thead th {\n        text-align: right;\n    }\n</style>\n<table border=\"1\" class=\"dataframe\">\n  <thead>\n    <tr style=\"text-align: right;\">\n      <th></th>\n      <th>purchase_value</th>\n      <th>age</th>\n      <th>time_diff</th>\n      <th>device_num</th>\n      <th>ip_num</th>\n      <th>source_Ads</th>\n      <th>source_Direct</th>\n      <th>source_SEO</th>\n      <th>browser_Chrome</th>\n      <th>browser_FireFox</th>\n      <th>...</th>\n      <th>country_United States</th>\n      <th>country_Uruguay</th>\n      <th>country_Uzbekistan</th>\n      <th>country_Vanuatu</th>\n      <th>country_Venezuela</th>\n      <th>country_Viet Nam</th>\n      <th>country_Virgin Islands (U.S.)</th>\n      <th>country_Yemen</th>\n      <th>country_Zambia</th>\n      <th>country_Zimbabwe</th>\n    </tr>\n  </thead>\n  <tbody>\n    <tr>\n      <th>0</th>\n      <td>34</td>\n      <td>39</td>\n      <td>13920</td>\n      <td>1</td>\n      <td>1</td>\n      <td>0</td>\n      <td>0</td>\n      <td>1</td>\n      <td>1</td>\n      <td>0</td>\n      <td>...</td>\n      <td>0</td>\n      <td>0</td>\n      <td>0</td>\n      <td>0</td>\n      <td>0</td>\n      <td>0</td>\n      <td>0</td>\n      <td>0</td>\n      <td>0</td>\n      <td>0</td>\n    </tr>\n    <tr>\n      <th>1</th>\n      <td>16</td>\n      <td>53</td>\n      <td>17940</td>\n      <td>1</td>\n      <td>1</td>\n      <td>1</td>\n      <td>0</td>\n      <td>0</td>\n      <td>1</td>\n      <td>0</td>\n      <td>...</td>\n      <td>1</td>\n      <td>0</td>\n      <td>0</td>\n      <td>0</td>\n      <td>0</td>\n      <td>0</td>\n      <td>0</td>\n      <td>0</td>\n      <td>0</td>\n      <td>0</td>\n    </tr>\n    <tr>\n      <th>2</th>\n      <td>15</td>\n      <td>53</td>\n      <td>0</td>\n      <td>12</td>\n      <td>12</td>\n      <td>0</td>\n      <td>0</td>\n      <td>1</td>\n      <td>0</td>\n      <td>0</td>\n      <td>...</td>\n      <td>1</td>\n      <td>0</td>\n      <td>0</td>\n      <td>0</td>\n      <td>0</td>\n      <td>0</td>\n      <td>0</td>\n      <td>0</td>\n      <td>0</td>\n      <td>0</td>\n    </tr>\n    <tr>\n      <th>3</th>\n      <td>44</td>\n      <td>41</td>\n      <td>60060</td>\n      <td>1</td>\n      <td>1</td>\n      <td>0</td>\n      <td>0</td>\n      <td>1</td>\n      <td>0</td>\n      <td>0</td>\n      <td>...</td>\n      <td>0</td>\n      <td>0</td>\n      <td>0</td>\n      <td>0</td>\n      <td>0</td>\n      <td>0</td>\n      <td>0</td>\n      <td>0</td>\n      <td>0</td>\n      <td>0</td>\n    </tr>\n    <tr>\n      <th>4</th>\n      <td>39</td>\n      <td>45</td>\n      <td>41460</td>\n      <td>1</td>\n      <td>1</td>\n      <td>1</td>\n      <td>0</td>\n      <td>0</td>\n      <td>0</td>\n      <td>0</td>\n      <td>...</td>\n      <td>1</td>\n      <td>0</td>\n      <td>0</td>\n      <td>0</td>\n      <td>0</td>\n      <td>0</td>\n      <td>0</td>\n      <td>0</td>\n      <td>0</td>\n      <td>0</td>\n    </tr>\n  </tbody>\n</table>\n<p>5 rows × 197 columns</p>\n</div>"
     },
     "execution_count": 51,
     "metadata": {},
     "output_type": "execute_result"
    }
   ],
   "source": [
    "X_num = X.drop(['source', 'browser', 'sex', 'country'], axis=1)\n",
    "X_cat = X[['source', 'browser', 'sex', 'country']]\n",
    "\n",
    "X_cat = pd.get_dummies(X_cat)\n",
    "X = pd.concat([X_num, X_cat], axis=1)\n",
    "\n",
    "X.head()"
   ],
   "metadata": {
    "collapsed": false,
    "pycharm": {
     "name": "#%%\n"
    }
   }
  },
  {
   "cell_type": "markdown",
   "source": [
    "## Build Classifier"
   ],
   "metadata": {
    "collapsed": false,
    "pycharm": {
     "name": "#%% md\n"
    }
   }
  },
  {
   "cell_type": "code",
   "execution_count": 52,
   "outputs": [],
   "source": [
    "from sklearn.model_selection import train_test_split\n",
    "\n",
    "X_train, X_test, y_train, y_test = train_test_split(X, y, stratify=y, test_size=0.25)"
   ],
   "metadata": {
    "collapsed": false,
    "pycharm": {
     "name": "#%%\n"
    }
   }
  },
  {
   "cell_type": "code",
   "execution_count": 56,
   "outputs": [
    {
     "name": "stdout",
     "output_type": "stream",
     "text": [
      "CPU times: total: 1min 41s\n",
      "Wall time: 22.5 s\n"
     ]
    },
    {
     "data": {
      "text/plain": "RandomForestClassifier(max_leaf_nodes=16, n_estimators=500, n_jobs=-1,\n                       oob_score=True, random_state=42)"
     },
     "execution_count": 56,
     "metadata": {},
     "output_type": "execute_result"
    }
   ],
   "source": [
    "from sklearn.ensemble import RandomForestClassifier\n",
    "\n",
    "forest = RandomForestClassifier(n_estimators=500,\n",
    "                                max_leaf_nodes=16,\n",
    "                                bootstrap=True,\n",
    "                                oob_score=True,\n",
    "                                n_jobs=-1, random_state=42)\n",
    "%time forest.fit(X_train, y_train)"
   ],
   "metadata": {
    "collapsed": false,
    "pycharm": {
     "name": "#%%\n"
    }
   }
  },
  {
   "cell_type": "code",
   "execution_count": 57,
   "outputs": [
    {
     "data": {
      "text/plain": "0.9568796654137328"
     },
     "execution_count": 57,
     "metadata": {},
     "output_type": "execute_result"
    }
   ],
   "source": [
    "from sklearn.metrics import accuracy_score\n",
    "\n",
    "accuracy_score(y_test, forest.predict(X_test))"
   ],
   "metadata": {
    "collapsed": false,
    "pycharm": {
     "name": "#%%\n"
    }
   }
  },
  {
   "cell_type": "code",
   "execution_count": 58,
   "outputs": [
    {
     "data": {
      "text/plain": "array([8.10466981e-03, 7.04791069e-03, 3.65058846e-01, 2.97946517e-01,\n       2.68067768e-01, 1.80732067e-03, 3.14950908e-03, 1.53314030e-03,\n       2.31649230e-03, 7.82171974e-04, 1.65717348e-03, 4.39021887e-04,\n       8.85060376e-04, 1.56923228e-03, 2.11362294e-03, 0.00000000e+00,\n       0.00000000e+00, 2.26137561e-05, 2.10026817e-07, 0.00000000e+00,\n       6.52211120e-06, 6.33917533e-06, 6.86272246e-06, 7.69918192e-06,\n       4.23862278e-06, 0.00000000e+00, 0.00000000e+00, 3.66039954e-05,\n       0.00000000e+00, 1.73036611e-07, 1.14950228e-03, 0.00000000e+00,\n       0.00000000e+00, 0.00000000e+00, 0.00000000e+00, 9.21678078e-04,\n       0.00000000e+00, 3.25868034e-06, 0.00000000e+00, 6.49215716e-05,\n       0.00000000e+00, 0.00000000e+00, 5.48908016e-05, 0.00000000e+00,\n       0.00000000e+00, 0.00000000e+00, 0.00000000e+00, 6.34406029e-04,\n       0.00000000e+00, 0.00000000e+00, 5.75347513e-04, 1.86080311e-04,\n       9.05800241e-05, 0.00000000e+00, 0.00000000e+00, 2.84391792e-04,\n       1.16960623e-05, 2.57985010e-06, 0.00000000e+00, 0.00000000e+00,\n       3.94957172e-06, 3.93176581e-05, 1.26498020e-03, 0.00000000e+00,\n       0.00000000e+00, 7.69145054e-08, 2.85855472e-03, 3.46230681e-04,\n       9.50697799e-06, 4.25154147e-06, 0.00000000e+00, 2.56625353e-05,\n       0.00000000e+00, 0.00000000e+00, 8.65467708e-05, 1.00054032e-05,\n       0.00000000e+00, 0.00000000e+00, 5.02401367e-06, 5.49760325e-04,\n       0.00000000e+00, 0.00000000e+00, 2.97465046e-04, 0.00000000e+00,\n       0.00000000e+00, 8.36340787e-06, 0.00000000e+00, 8.89907304e-05,\n       5.61061799e-04, 1.70737308e-04, 9.52205684e-05, 2.94814496e-04,\n       5.47540225e-05, 2.34820263e-05, 0.00000000e+00, 3.42460207e-03,\n       1.65515253e-05, 8.64877777e-05, 0.00000000e+00, 8.97863611e-05,\n       0.00000000e+00, 1.11008915e-06, 2.97188216e-07, 3.85486725e-05,\n       3.64497177e-04, 6.00932044e-08, 0.00000000e+00, 3.46184743e-06,\n       4.38921946e-06, 0.00000000e+00, 0.00000000e+00, 0.00000000e+00,\n       5.23531228e-04, 3.01447187e-03, 0.00000000e+00, 1.05604120e-06,\n       0.00000000e+00, 0.00000000e+00, 3.72543708e-05, 0.00000000e+00,\n       3.15589409e-04, 0.00000000e+00, 1.33511671e-03, 1.51283867e-06,\n       0.00000000e+00, 0.00000000e+00, 0.00000000e+00, 4.87127186e-05,\n       0.00000000e+00, 0.00000000e+00, 5.70825935e-04, 2.80334899e-03,\n       0.00000000e+00, 0.00000000e+00, 1.19313063e-04, 0.00000000e+00,\n       3.47425522e-03, 5.93863515e-05, 0.00000000e+00, 9.78662966e-07,\n       2.17445556e-04, 1.74757002e-07, 5.01478615e-05, 0.00000000e+00,\n       1.94645863e-06, 0.00000000e+00, 3.96479848e-06, 3.12729042e-03,\n       3.64436376e-05, 3.20210251e-04, 4.45215153e-06, 0.00000000e+00,\n       4.75838950e-06, 0.00000000e+00, 2.02232900e-04, 7.07442973e-06,\n       0.00000000e+00, 0.00000000e+00, 0.00000000e+00, 0.00000000e+00,\n       1.26813933e-03, 0.00000000e+00, 1.81301189e-07, 1.05445329e-04,\n       2.13222647e-05, 2.14212379e-06, 1.44360426e-05, 8.48498700e-05,\n       0.00000000e+00, 1.66998924e-04, 1.46041891e-03, 5.54347981e-06,\n       5.32961373e-04, 3.54306308e-06, 0.00000000e+00, 1.57562598e-05,\n       0.00000000e+00, 0.00000000e+00, 2.89006161e-05, 8.52016859e-07,\n       1.48951137e-03, 1.08763718e-04, 1.16739902e-04, 0.00000000e+00,\n       2.30591897e-04, 3.00791688e-04, 4.14306190e-05, 1.25249862e-04,\n       3.77806473e-07, 1.93223272e-04, 0.00000000e+00, 1.54834171e-05,\n       7.24921319e-06, 0.00000000e+00, 0.00000000e+00, 0.00000000e+00,\n       0.00000000e+00])"
     },
     "execution_count": 58,
     "metadata": {},
     "output_type": "execute_result"
    }
   ],
   "source": [
    "forest.feature_importances_"
   ],
   "metadata": {
    "collapsed": false,
    "pycharm": {
     "name": "#%%\n"
    }
   }
  },
  {
   "cell_type": "code",
   "execution_count": null,
   "outputs": [],
   "source": [],
   "metadata": {
    "collapsed": false,
    "pycharm": {
     "name": "#%%\n"
    }
   }
  }
 ],
 "metadata": {
  "kernelspec": {
   "display_name": "Python 3",
   "language": "python",
   "name": "python3"
  },
  "language_info": {
   "codemirror_mode": {
    "name": "ipython",
    "version": 2
   },
   "file_extension": ".py",
   "mimetype": "text/x-python",
   "name": "python",
   "nbconvert_exporter": "python",
   "pygments_lexer": "ipython2",
   "version": "2.7.6"
  }
 },
 "nbformat": 4,
 "nbformat_minor": 0
}