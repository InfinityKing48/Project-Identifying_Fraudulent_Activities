{
 "cells": [
  {
   "cell_type": "markdown",
   "source": [
    "# Identifying Fraudulent Activities"
   ],
   "metadata": {
    "collapsed": false,
    "pycharm": {
     "name": "#%% md\n"
    }
   }
  },
  {
   "cell_type": "markdown",
   "source": [
    "## Load Data"
   ],
   "metadata": {
    "collapsed": false,
    "pycharm": {
     "name": "#%% md\n"
    }
   }
  },
  {
   "cell_type": "code",
   "execution_count": 1,
   "outputs": [],
   "source": [
    "import numpy as np\n",
    "import pandas as pd"
   ],
   "metadata": {
    "collapsed": false,
    "pycharm": {
     "name": "#%%\n"
    }
   }
  },
  {
   "cell_type": "code",
   "execution_count": 5,
   "outputs": [
    {
     "data": {
      "text/plain": "   user_id         signup_time       purchase_time  purchase_value  \\\n0    22058 2015-02-24 22:55:49 2015-04-18 02:47:11              34   \n1   333320 2015-06-07 20:39:50 2015-06-08 01:38:54              16   \n2     1359 2015-01-01 18:52:44 2015-01-01 18:52:45              15   \n3   150084 2015-04-28 21:13:25 2015-05-04 13:54:50              44   \n4   221365 2015-07-21 07:09:52 2015-09-09 18:40:53              39   \n\n       device_id source browser sex  age    ip_address  class  \n0  QVPSPJUOCKZAR    SEO  Chrome   M   39  7.327584e+08      0  \n1  EOGFQPIZPYXFZ    Ads  Chrome   F   53  3.503114e+08      0  \n2  YSSKYOSJHPPLJ    SEO   Opera   M   53  2.621474e+09      1  \n3  ATGTXKYKUDUQN    SEO  Safari   M   41  3.840542e+09      0  \n4  NAUITBZFJKHWW    Ads  Safari   M   45  4.155831e+08      0  ",
      "text/html": "<div>\n<style scoped>\n    .dataframe tbody tr th:only-of-type {\n        vertical-align: middle;\n    }\n\n    .dataframe tbody tr th {\n        vertical-align: top;\n    }\n\n    .dataframe thead th {\n        text-align: right;\n    }\n</style>\n<table border=\"1\" class=\"dataframe\">\n  <thead>\n    <tr style=\"text-align: right;\">\n      <th></th>\n      <th>user_id</th>\n      <th>signup_time</th>\n      <th>purchase_time</th>\n      <th>purchase_value</th>\n      <th>device_id</th>\n      <th>source</th>\n      <th>browser</th>\n      <th>sex</th>\n      <th>age</th>\n      <th>ip_address</th>\n      <th>class</th>\n    </tr>\n  </thead>\n  <tbody>\n    <tr>\n      <th>0</th>\n      <td>22058</td>\n      <td>2015-02-24 22:55:49</td>\n      <td>2015-04-18 02:47:11</td>\n      <td>34</td>\n      <td>QVPSPJUOCKZAR</td>\n      <td>SEO</td>\n      <td>Chrome</td>\n      <td>M</td>\n      <td>39</td>\n      <td>7.327584e+08</td>\n      <td>0</td>\n    </tr>\n    <tr>\n      <th>1</th>\n      <td>333320</td>\n      <td>2015-06-07 20:39:50</td>\n      <td>2015-06-08 01:38:54</td>\n      <td>16</td>\n      <td>EOGFQPIZPYXFZ</td>\n      <td>Ads</td>\n      <td>Chrome</td>\n      <td>F</td>\n      <td>53</td>\n      <td>3.503114e+08</td>\n      <td>0</td>\n    </tr>\n    <tr>\n      <th>2</th>\n      <td>1359</td>\n      <td>2015-01-01 18:52:44</td>\n      <td>2015-01-01 18:52:45</td>\n      <td>15</td>\n      <td>YSSKYOSJHPPLJ</td>\n      <td>SEO</td>\n      <td>Opera</td>\n      <td>M</td>\n      <td>53</td>\n      <td>2.621474e+09</td>\n      <td>1</td>\n    </tr>\n    <tr>\n      <th>3</th>\n      <td>150084</td>\n      <td>2015-04-28 21:13:25</td>\n      <td>2015-05-04 13:54:50</td>\n      <td>44</td>\n      <td>ATGTXKYKUDUQN</td>\n      <td>SEO</td>\n      <td>Safari</td>\n      <td>M</td>\n      <td>41</td>\n      <td>3.840542e+09</td>\n      <td>0</td>\n    </tr>\n    <tr>\n      <th>4</th>\n      <td>221365</td>\n      <td>2015-07-21 07:09:52</td>\n      <td>2015-09-09 18:40:53</td>\n      <td>39</td>\n      <td>NAUITBZFJKHWW</td>\n      <td>Ads</td>\n      <td>Safari</td>\n      <td>M</td>\n      <td>45</td>\n      <td>4.155831e+08</td>\n      <td>0</td>\n    </tr>\n  </tbody>\n</table>\n</div>"
     },
     "execution_count": 5,
     "metadata": {},
     "output_type": "execute_result"
    }
   ],
   "source": [
    "data = pd.read_csv('Fraud_Data.csv', parse_dates=['signup_time', 'purchase_time'])\n",
    "data.head()"
   ],
   "metadata": {
    "collapsed": false,
    "pycharm": {
     "name": "#%%\n"
    }
   }
  },
  {
   "cell_type": "code",
   "execution_count": 6,
   "outputs": [
    {
     "name": "stdout",
     "output_type": "stream",
     "text": [
      "<class 'pandas.core.frame.DataFrame'>\n",
      "RangeIndex: 151112 entries, 0 to 151111\n",
      "Data columns (total 11 columns):\n",
      " #   Column          Non-Null Count   Dtype         \n",
      "---  ------          --------------   -----         \n",
      " 0   user_id         151112 non-null  int64         \n",
      " 1   signup_time     151112 non-null  datetime64[ns]\n",
      " 2   purchase_time   151112 non-null  datetime64[ns]\n",
      " 3   purchase_value  151112 non-null  int64         \n",
      " 4   device_id       151112 non-null  object        \n",
      " 5   source          151112 non-null  object        \n",
      " 6   browser         151112 non-null  object        \n",
      " 7   sex             151112 non-null  object        \n",
      " 8   age             151112 non-null  int64         \n",
      " 9   ip_address      151112 non-null  float64       \n",
      " 10  class           151112 non-null  int64         \n",
      "dtypes: datetime64[ns](2), float64(1), int64(4), object(4)\n",
      "memory usage: 12.7+ MB\n"
     ]
    }
   ],
   "source": [
    "data.info()"
   ],
   "metadata": {
    "collapsed": false,
    "pycharm": {
     "name": "#%%\n"
    }
   }
  },
  {
   "cell_type": "code",
   "execution_count": 7,
   "outputs": [
    {
     "data": {
      "text/plain": "       purchase_value            age\ncount   151112.000000  151112.000000\nmean        36.935372      33.140704\nstd         18.322762       8.617733\nmin          9.000000      18.000000\n25%         22.000000      27.000000\n50%         35.000000      33.000000\n75%         49.000000      39.000000\nmax        154.000000      76.000000",
      "text/html": "<div>\n<style scoped>\n    .dataframe tbody tr th:only-of-type {\n        vertical-align: middle;\n    }\n\n    .dataframe tbody tr th {\n        vertical-align: top;\n    }\n\n    .dataframe thead th {\n        text-align: right;\n    }\n</style>\n<table border=\"1\" class=\"dataframe\">\n  <thead>\n    <tr style=\"text-align: right;\">\n      <th></th>\n      <th>purchase_value</th>\n      <th>age</th>\n    </tr>\n  </thead>\n  <tbody>\n    <tr>\n      <th>count</th>\n      <td>151112.000000</td>\n      <td>151112.000000</td>\n    </tr>\n    <tr>\n      <th>mean</th>\n      <td>36.935372</td>\n      <td>33.140704</td>\n    </tr>\n    <tr>\n      <th>std</th>\n      <td>18.322762</td>\n      <td>8.617733</td>\n    </tr>\n    <tr>\n      <th>min</th>\n      <td>9.000000</td>\n      <td>18.000000</td>\n    </tr>\n    <tr>\n      <th>25%</th>\n      <td>22.000000</td>\n      <td>27.000000</td>\n    </tr>\n    <tr>\n      <th>50%</th>\n      <td>35.000000</td>\n      <td>33.000000</td>\n    </tr>\n    <tr>\n      <th>75%</th>\n      <td>49.000000</td>\n      <td>39.000000</td>\n    </tr>\n    <tr>\n      <th>max</th>\n      <td>154.000000</td>\n      <td>76.000000</td>\n    </tr>\n  </tbody>\n</table>\n</div>"
     },
     "execution_count": 7,
     "metadata": {},
     "output_type": "execute_result"
    }
   ],
   "source": [
    "data.describe().iloc[:, 1:3]"
   ],
   "metadata": {
    "collapsed": false,
    "pycharm": {
     "name": "#%%\n"
    }
   }
  },
  {
   "cell_type": "code",
   "execution_count": 8,
   "outputs": [
    {
     "data": {
      "text/plain": "<Figure size 1440x720 with 2 Axes>",
      "image/png": "[encoded data removed]"
     },
     "metadata": {
      "needs_background": "light"
     },
     "output_type": "display_data"
    }
   ],
   "source": [
    "%matplotlib inline\n",
    "import matplotlib.pyplot as plt\n",
    "\n",
    "scale = 10\n",
    "data[['purchase_value', 'age']].hist(bins='auto', figsize=(2*scale, 1*scale), layout=(1, 2))\n",
    "plt.show()"
   ],
   "metadata": {
    "collapsed": false,
    "pycharm": {
     "name": "#%%\n"
    }
   }
  },
  {
   "cell_type": "code",
   "execution_count": 9,
   "outputs": [
    {
     "data": {
      "text/plain": "   lower_bound_ip_address  upper_bound_ip_address    country\n0              16777216.0                16777471  Australia\n1              16777472.0                16777727      China\n2              16777728.0                16778239      China\n3              16778240.0                16779263  Australia\n4              16779264.0                16781311      China",
      "text/html": "<div>\n<style scoped>\n    .dataframe tbody tr th:only-of-type {\n        vertical-align: middle;\n    }\n\n    .dataframe tbody tr th {\n        vertical-align: top;\n    }\n\n    .dataframe thead th {\n        text-align: right;\n    }\n</style>\n<table border=\"1\" class=\"dataframe\">\n  <thead>\n    <tr style=\"text-align: right;\">\n      <th></th>\n      <th>lower_bound_ip_address</th>\n      <th>upper_bound_ip_address</th>\n      <th>country</th>\n    </tr>\n  </thead>\n  <tbody>\n    <tr>\n      <th>0</th>\n      <td>16777216.0</td>\n      <td>16777471</td>\n      <td>Australia</td>\n    </tr>\n    <tr>\n      <th>1</th>\n      <td>16777472.0</td>\n      <td>16777727</td>\n      <td>China</td>\n    </tr>\n    <tr>\n      <th>2</th>\n      <td>16777728.0</td>\n      <td>16778239</td>\n      <td>China</td>\n    </tr>\n    <tr>\n      <th>3</th>\n      <td>16778240.0</td>\n      <td>16779263</td>\n      <td>Australia</td>\n    </tr>\n    <tr>\n      <th>4</th>\n      <td>16779264.0</td>\n      <td>16781311</td>\n      <td>China</td>\n    </tr>\n  </tbody>\n</table>\n</div>"
     },
     "execution_count": 9,
     "metadata": {},
     "output_type": "execute_result"
    }
   ],
   "source": [
    "ip_country = pd.read_csv('IpAddress_to_Country.csv')\n",
    "ip_country.head()"
   ],
   "metadata": {
    "collapsed": false,
    "pycharm": {
     "name": "#%%\n"
    }
   }
  },
  {
   "cell_type": "code",
   "execution_count": 10,
   "outputs": [
    {
     "name": "stdout",
     "output_type": "stream",
     "text": [
      "<class 'pandas.core.frame.DataFrame'>\n",
      "RangeIndex: 138846 entries, 0 to 138845\n",
      "Data columns (total 3 columns):\n",
      " #   Column                  Non-Null Count   Dtype  \n",
      "---  ------                  --------------   -----  \n",
      " 0   lower_bound_ip_address  138846 non-null  float64\n",
      " 1   upper_bound_ip_address  138846 non-null  int64  \n",
      " 2   country                 138846 non-null  object \n",
      "dtypes: float64(1), int64(1), object(1)\n",
      "memory usage: 3.2+ MB\n"
     ]
    }
   ],
   "source": [
    "ip_country.info()"
   ],
   "metadata": {
    "collapsed": false,
    "pycharm": {
     "name": "#%%\n"
    }
   }
  },
  {
   "cell_type": "markdown",
   "source": [
    "## Data Preprocessing"
   ],
   "metadata": {
    "collapsed": false,
    "pycharm": {
     "name": "#%% md\n"
    }
   }
  },
  {
   "cell_type": "code",
   "execution_count": 11,
   "outputs": [],
   "source": [
    "def match_country_to_ip(ip=None):\n",
    "    match = (ip <= ip_country['upper_bound_ip_address']) & ( ip >= ip_country['lower_bound_ip_address'])\n",
    "    if match.any():\n",
    "        return ip_country['country'][match].values[0]\n",
    "    else:\n",
    "        return 'NA'"
   ],
   "metadata": {
    "collapsed": false,
    "pycharm": {
     "name": "#%%\n"
    }
   }
  },
  {
   "cell_type": "code",
   "execution_count": 12,
   "outputs": [],
   "source": [
    "data['country'] = data['ip_address'].apply(lambda x: match_country_to_ip(x))"
   ],
   "metadata": {
    "collapsed": false,
    "pycharm": {
     "name": "#%%\n"
    }
   }
  },
  {
   "cell_type": "code",
   "execution_count": 13,
   "outputs": [
    {
     "data": {
      "text/plain": "   user_id         signup_time       purchase_time  purchase_value  \\\n0    22058 2015-02-24 22:55:49 2015-04-18 02:47:11              34   \n1   333320 2015-06-07 20:39:50 2015-06-08 01:38:54              16   \n2     1359 2015-01-01 18:52:44 2015-01-01 18:52:45              15   \n3   150084 2015-04-28 21:13:25 2015-05-04 13:54:50              44   \n4   221365 2015-07-21 07:09:52 2015-09-09 18:40:53              39   \n\n       device_id source browser sex  age    ip_address  class        country  \n0  QVPSPJUOCKZAR    SEO  Chrome   M   39  7.327584e+08      0          Japan  \n1  EOGFQPIZPYXFZ    Ads  Chrome   F   53  3.503114e+08      0  United States  \n2  YSSKYOSJHPPLJ    SEO   Opera   M   53  2.621474e+09      1  United States  \n3  ATGTXKYKUDUQN    SEO  Safari   M   41  3.840542e+09      0             NA  \n4  NAUITBZFJKHWW    Ads  Safari   M   45  4.155831e+08      0  United States  ",
      "text/html": "<div>\n<style scoped>\n    .dataframe tbody tr th:only-of-type {\n        vertical-align: middle;\n    }\n\n    .dataframe tbody tr th {\n        vertical-align: top;\n    }\n\n    .dataframe thead th {\n        text-align: right;\n    }\n</style>\n<table border=\"1\" class=\"dataframe\">\n  <thead>\n    <tr style=\"text-align: right;\">\n      <th></th>\n      <th>user_id</th>\n      <th>signup_time</th>\n      <th>purchase_time</th>\n      <th>purchase_value</th>\n      <th>device_id</th>\n      <th>source</th>\n      <th>browser</th>\n      <th>sex</th>\n      <th>age</th>\n      <th>ip_address</th>\n      <th>class</th>\n      <th>country</th>\n    </tr>\n  </thead>\n  <tbody>\n    <tr>\n      <th>0</th>\n      <td>22058</td>\n      <td>2015-02-24 22:55:49</td>\n      <td>2015-04-18 02:47:11</td>\n      <td>34</td>\n      <td>QVPSPJUOCKZAR</td>\n      <td>SEO</td>\n      <td>Chrome</td>\n      <td>M</td>\n      <td>39</td>\n      <td>7.327584e+08</td>\n      <td>0</td>\n      <td>Japan</td>\n    </tr>\n    <tr>\n      <th>1</th>\n      <td>333320</td>\n      <td>2015-06-07 20:39:50</td>\n      <td>2015-06-08 01:38:54</td>\n      <td>16</td>\n      <td>EOGFQPIZPYXFZ</td>\n      <td>Ads</td>\n      <td>Chrome</td>\n      <td>F</td>\n      <td>53</td>\n      <td>3.503114e+08</td>\n      <td>0</td>\n      <td>United States</td>\n    </tr>\n    <tr>\n      <th>2</th>\n      <td>1359</td>\n      <td>2015-01-01 18:52:44</td>\n      <td>2015-01-01 18:52:45</td>\n      <td>15</td>\n      <td>YSSKYOSJHPPLJ</td>\n      <td>SEO</td>\n      <td>Opera</td>\n      <td>M</td>\n      <td>53</td>\n      <td>2.621474e+09</td>\n      <td>1</td>\n      <td>United States</td>\n    </tr>\n    <tr>\n      <th>3</th>\n      <td>150084</td>\n      <td>2015-04-28 21:13:25</td>\n      <td>2015-05-04 13:54:50</td>\n      <td>44</td>\n      <td>ATGTXKYKUDUQN</td>\n      <td>SEO</td>\n      <td>Safari</td>\n      <td>M</td>\n      <td>41</td>\n      <td>3.840542e+09</td>\n      <td>0</td>\n      <td>NA</td>\n    </tr>\n    <tr>\n      <th>4</th>\n      <td>221365</td>\n      <td>2015-07-21 07:09:52</td>\n      <td>2015-09-09 18:40:53</td>\n      <td>39</td>\n      <td>NAUITBZFJKHWW</td>\n      <td>Ads</td>\n      <td>Safari</td>\n      <td>M</td>\n      <td>45</td>\n      <td>4.155831e+08</td>\n      <td>0</td>\n      <td>United States</td>\n    </tr>\n  </tbody>\n</table>\n</div>"
     },
     "execution_count": 13,
     "metadata": {},
     "output_type": "execute_result"
    }
   ],
   "source": [
    "data.head()"
   ],
   "metadata": {
    "collapsed": false,
    "pycharm": {
     "name": "#%%\n"
    }
   }
  },
  {
   "cell_type": "code",
   "execution_count": 14,
   "outputs": [
    {
     "data": {
      "text/plain": "United States     58049\nNA                21966\nChina             12038\nJapan              7306\nUnited Kingdom     4490\n                  ...  \nMyanmar               1\nVanuatu               1\nDominica              1\nNiger                 1\nGuadeloupe            1\nName: country, Length: 182, dtype: int64"
     },
     "execution_count": 14,
     "metadata": {},
     "output_type": "execute_result"
    }
   ],
   "source": [
    "data['country'].value_counts()"
   ],
   "metadata": {
    "collapsed": false,
    "pycharm": {
     "name": "#%%\n"
    }
   }
  },
  {
   "cell_type": "markdown",
   "source": [
    "## Feature Engineering"
   ],
   "metadata": {
    "collapsed": false,
    "pycharm": {
     "name": "#%% md\n"
    }
   }
  },
  {
   "cell_type": "code",
   "execution_count": 15,
   "outputs": [],
   "source": [
    "data['time_diff'] = (data['purchase_time'] - data['signup_time']).dt.total_seconds()\n",
    "\n",
    "device_num = data['device_id'].value_counts()\n",
    "data['device_num'] = data['device_id'].map(device_num)\n",
    "\n",
    "ip_num = data['ip_address'].value_counts()\n",
    "data['ip_num'] = data['ip_address'].map(ip_num)\n",
    "\n",
    "country_num = data['country'].value_counts()\n",
    "data['country_num'] = data['country'].map(country_num)"
   ],
   "metadata": {
    "collapsed": false,
    "pycharm": {
     "name": "#%%\n"
    }
   }
  },
  {
   "cell_type": "code",
   "execution_count": 16,
   "outputs": [],
   "source": [
    "features = ['purchase_value', 'source', 'browser', 'sex', 'age', 'time_diff', 'device_num', 'ip_num', 'country_num']\n",
    "label = 'class'\n",
    "X = data[features]\n",
    "y = data[label]"
   ],
   "metadata": {
    "collapsed": false,
    "pycharm": {
     "name": "#%%\n"
    }
   }
  },
  {
   "cell_type": "code",
   "execution_count": 17,
   "outputs": [
    {
     "data": {
      "text/plain": "   purchase_value source browser sex  age  time_diff  device_num  ip_num  \\\n0              34    SEO  Chrome   M   39  4506682.0           1       1   \n1              16    Ads  Chrome   F   53    17944.0           1       1   \n2              15    SEO   Opera   M   53        1.0          12      12   \n3              44    SEO  Safari   M   41   492085.0           1       1   \n4              39    Ads  Safari   M   45  4361461.0           1       1   \n\n   country_num  \n0         7306  \n1        58049  \n2        58049  \n3        21966  \n4        58049  ",
      "text/html": "<div>\n<style scoped>\n    .dataframe tbody tr th:only-of-type {\n        vertical-align: middle;\n    }\n\n    .dataframe tbody tr th {\n        vertical-align: top;\n    }\n\n    .dataframe thead th {\n        text-align: right;\n    }\n</style>\n<table border=\"1\" class=\"dataframe\">\n  <thead>\n    <tr style=\"text-align: right;\">\n      <th></th>\n      <th>purchase_value</th>\n      <th>source</th>\n      <th>browser</th>\n      <th>sex</th>\n      <th>age</th>\n      <th>time_diff</th>\n      <th>device_num</th>\n      <th>ip_num</th>\n      <th>country_num</th>\n    </tr>\n  </thead>\n  <tbody>\n    <tr>\n      <th>0</th>\n      <td>34</td>\n      <td>SEO</td>\n      <td>Chrome</td>\n      <td>M</td>\n      <td>39</td>\n      <td>4506682.0</td>\n      <td>1</td>\n      <td>1</td>\n      <td>7306</td>\n    </tr>\n    <tr>\n      <th>1</th>\n      <td>16</td>\n      <td>Ads</td>\n      <td>Chrome</td>\n      <td>F</td>\n      <td>53</td>\n      <td>17944.0</td>\n      <td>1</td>\n      <td>1</td>\n      <td>58049</td>\n    </tr>\n    <tr>\n      <th>2</th>\n      <td>15</td>\n      <td>SEO</td>\n      <td>Opera</td>\n      <td>M</td>\n      <td>53</td>\n      <td>1.0</td>\n      <td>12</td>\n      <td>12</td>\n      <td>58049</td>\n    </tr>\n    <tr>\n      <th>3</th>\n      <td>44</td>\n      <td>SEO</td>\n      <td>Safari</td>\n      <td>M</td>\n      <td>41</td>\n      <td>492085.0</td>\n      <td>1</td>\n      <td>1</td>\n      <td>21966</td>\n    </tr>\n    <tr>\n      <th>4</th>\n      <td>39</td>\n      <td>Ads</td>\n      <td>Safari</td>\n      <td>M</td>\n      <td>45</td>\n      <td>4361461.0</td>\n      <td>1</td>\n      <td>1</td>\n      <td>58049</td>\n    </tr>\n  </tbody>\n</table>\n</div>"
     },
     "execution_count": 17,
     "metadata": {},
     "output_type": "execute_result"
    }
   ],
   "source": [
    "X.head()"
   ],
   "metadata": {
    "collapsed": false,
    "pycharm": {
     "name": "#%%\n"
    }
   }
  },
  {
   "cell_type": "code",
   "execution_count": 18,
   "outputs": [
    {
     "data": {
      "text/plain": "SEO       60615\nAds       59881\nDirect    30616\nName: source, dtype: int64"
     },
     "execution_count": 18,
     "metadata": {},
     "output_type": "execute_result"
    }
   ],
   "source": [
    "X['source'].value_counts()"
   ],
   "metadata": {
    "collapsed": false,
    "pycharm": {
     "name": "#%%\n"
    }
   }
  },
  {
   "cell_type": "code",
   "execution_count": 19,
   "outputs": [
    {
     "data": {
      "text/plain": "Chrome     61432\nIE         36727\nSafari     24667\nFireFox    24610\nOpera       3676\nName: browser, dtype: int64"
     },
     "execution_count": 19,
     "metadata": {},
     "output_type": "execute_result"
    }
   ],
   "source": [
    "X['browser'].value_counts()"
   ],
   "metadata": {
    "collapsed": false,
    "pycharm": {
     "name": "#%%\n"
    }
   }
  },
  {
   "cell_type": "code",
   "execution_count": 20,
   "outputs": [
    {
     "data": {
      "text/plain": "M    88293\nF    62819\nName: sex, dtype: int64"
     },
     "execution_count": 20,
     "metadata": {},
     "output_type": "execute_result"
    }
   ],
   "source": [
    "X['sex'].value_counts()"
   ],
   "metadata": {
    "collapsed": false,
    "pycharm": {
     "name": "#%%\n"
    }
   }
  },
  {
   "cell_type": "code",
   "execution_count": 21,
   "outputs": [
    {
     "data": {
      "text/plain": "   purchase_value  age  time_diff  device_num  ip_num  country_num  \\\n0              34   39  4506682.0           1       1         7306   \n1              16   53    17944.0           1       1        58049   \n2              15   53        1.0          12      12        58049   \n3              44   41   492085.0           1       1        21966   \n4              39   45  4361461.0           1       1        58049   \n\n   source_Ads  source_Direct  source_SEO  browser_Chrome  browser_FireFox  \\\n0           0              0           1               1                0   \n1           1              0           0               1                0   \n2           0              0           1               0                0   \n3           0              0           1               0                0   \n4           1              0           0               0                0   \n\n   browser_IE  browser_Opera  browser_Safari  sex_F  sex_M  \n0           0              0               0      0      1  \n1           0              0               0      1      0  \n2           0              1               0      0      1  \n3           0              0               1      0      1  \n4           0              0               1      0      1  ",
      "text/html": "<div>\n<style scoped>\n    .dataframe tbody tr th:only-of-type {\n        vertical-align: middle;\n    }\n\n    .dataframe tbody tr th {\n        vertical-align: top;\n    }\n\n    .dataframe thead th {\n        text-align: right;\n    }\n</style>\n<table border=\"1\" class=\"dataframe\">\n  <thead>\n    <tr style=\"text-align: right;\">\n      <th></th>\n      <th>purchase_value</th>\n      <th>age</th>\n      <th>time_diff</th>\n      <th>device_num</th>\n      <th>ip_num</th>\n      <th>country_num</th>\n      <th>source_Ads</th>\n      <th>source_Direct</th>\n      <th>source_SEO</th>\n      <th>browser_Chrome</th>\n      <th>browser_FireFox</th>\n      <th>browser_IE</th>\n      <th>browser_Opera</th>\n      <th>browser_Safari</th>\n      <th>sex_F</th>\n      <th>sex_M</th>\n    </tr>\n  </thead>\n  <tbody>\n    <tr>\n      <th>0</th>\n      <td>34</td>\n      <td>39</td>\n      <td>4506682.0</td>\n      <td>1</td>\n      <td>1</td>\n      <td>7306</td>\n      <td>0</td>\n      <td>0</td>\n      <td>1</td>\n      <td>1</td>\n      <td>0</td>\n      <td>0</td>\n      <td>0</td>\n      <td>0</td>\n      <td>0</td>\n      <td>1</td>\n    </tr>\n    <tr>\n      <th>1</th>\n      <td>16</td>\n      <td>53</td>\n      <td>17944.0</td>\n      <td>1</td>\n      <td>1</td>\n      <td>58049</td>\n      <td>1</td>\n      <td>0</td>\n      <td>0</td>\n      <td>1</td>\n      <td>0</td>\n      <td>0</td>\n      <td>0</td>\n      <td>0</td>\n      <td>1</td>\n      <td>0</td>\n    </tr>\n    <tr>\n      <th>2</th>\n      <td>15</td>\n      <td>53</td>\n      <td>1.0</td>\n      <td>12</td>\n      <td>12</td>\n      <td>58049</td>\n      <td>0</td>\n      <td>0</td>\n      <td>1</td>\n      <td>0</td>\n      <td>0</td>\n      <td>0</td>\n      <td>1</td>\n      <td>0</td>\n      <td>0</td>\n      <td>1</td>\n    </tr>\n    <tr>\n      <th>3</th>\n      <td>44</td>\n      <td>41</td>\n      <td>492085.0</td>\n      <td>1</td>\n      <td>1</td>\n      <td>21966</td>\n      <td>0</td>\n      <td>0</td>\n      <td>1</td>\n      <td>0</td>\n      <td>0</td>\n      <td>0</td>\n      <td>0</td>\n      <td>1</td>\n      <td>0</td>\n      <td>1</td>\n    </tr>\n    <tr>\n      <th>4</th>\n      <td>39</td>\n      <td>45</td>\n      <td>4361461.0</td>\n      <td>1</td>\n      <td>1</td>\n      <td>58049</td>\n      <td>1</td>\n      <td>0</td>\n      <td>0</td>\n      <td>0</td>\n      <td>0</td>\n      <td>0</td>\n      <td>0</td>\n      <td>1</td>\n      <td>0</td>\n      <td>1</td>\n    </tr>\n  </tbody>\n</table>\n</div>"
     },
     "execution_count": 21,
     "metadata": {},
     "output_type": "execute_result"
    }
   ],
   "source": [
    "X_num = X.drop(['source', 'browser', 'sex'], axis=1)\n",
    "X_cat = X[['source', 'browser', 'sex']]\n",
    "\n",
    "X_cat = pd.get_dummies(X_cat)\n",
    "X = pd.concat([X_num, X_cat], axis=1)\n",
    "\n",
    "X.head()"
   ],
   "metadata": {
    "collapsed": false,
    "pycharm": {
     "name": "#%%\n"
    }
   }
  },
  {
   "cell_type": "markdown",
   "source": [
    "## Build Classifier"
   ],
   "metadata": {
    "collapsed": false,
    "pycharm": {
     "name": "#%% md\n"
    }
   }
  },
  {
   "cell_type": "code",
   "execution_count": 22,
   "outputs": [],
   "source": [
    "from sklearn.model_selection import train_test_split\n",
    "\n",
    "X_train, X_test, y_train, y_test = train_test_split(X, y, stratify=y, test_size=0.25, random_state=42)"
   ],
   "metadata": {
    "collapsed": false,
    "pycharm": {
     "name": "#%%\n"
    }
   }
  },
  {
   "cell_type": "markdown",
   "source": [
    "### Random Forest"
   ],
   "metadata": {
    "collapsed": false,
    "pycharm": {
     "name": "#%% md\n"
    }
   }
  },
  {
   "cell_type": "code",
   "execution_count": 23,
   "outputs": [
    {
     "name": "stdout",
     "output_type": "stream",
     "text": [
      "Fitting 5 folds for each of 50 candidates, totalling 250 fits\n"
     ]
    },
    {
     "name": "stderr",
     "output_type": "stream",
     "text": [
      "[Parallel(n_jobs=-1)]: Using backend LokyBackend with 16 concurrent workers.\n",
      "[Parallel(n_jobs=-1)]: Done   9 tasks      | elapsed:   12.9s\n",
      "[Parallel(n_jobs=-1)]: Done  18 tasks      | elapsed:   23.7s\n",
      "[Parallel(n_jobs=-1)]: Done  29 tasks      | elapsed:   34.4s\n",
      "[Parallel(n_jobs=-1)]: Done  40 tasks      | elapsed:  1.2min\n",
      "[Parallel(n_jobs=-1)]: Done  53 tasks      | elapsed:  1.4min\n",
      "[Parallel(n_jobs=-1)]: Done  66 tasks      | elapsed:  2.2min\n",
      "[Parallel(n_jobs=-1)]: Done  81 tasks      | elapsed:  2.8min\n",
      "[Parallel(n_jobs=-1)]: Done  96 tasks      | elapsed:  3.5min\n",
      "[Parallel(n_jobs=-1)]: Done 113 tasks      | elapsed:  4.1min\n",
      "[Parallel(n_jobs=-1)]: Done 130 tasks      | elapsed:  4.9min\n",
      "[Parallel(n_jobs=-1)]: Done 149 tasks      | elapsed:  5.4min\n",
      "[Parallel(n_jobs=-1)]: Done 168 tasks      | elapsed:  6.2min\n",
      "[Parallel(n_jobs=-1)]: Done 189 tasks      | elapsed:  7.3min\n",
      "[Parallel(n_jobs=-1)]: Done 210 tasks      | elapsed:  8.0min\n",
      "[Parallel(n_jobs=-1)]: Done 245 out of 250 | elapsed: 10.6min remaining:   12.9s\n",
      "[Parallel(n_jobs=-1)]: Done 250 out of 250 | elapsed: 11.4min finished\n"
     ]
    },
    {
     "data": {
      "text/plain": "GridSearchCV(cv=5, estimator=RandomForestClassifier(random_state=42), n_jobs=-1,\n             param_grid={'bootstrap': [True, False],\n                         'max_depth': [5, 10, 20, 50, 100],\n                         'n_estimators': [20, 50, 100, 200, 500]},\n             scoring='roc_auc', verbose=10)"
     },
     "execution_count": 23,
     "metadata": {},
     "output_type": "execute_result"
    }
   ],
   "source": [
    "from sklearn.ensemble import RandomForestClassifier\n",
    "from sklearn.model_selection import GridSearchCV\n",
    "\n",
    "param_grid = {\n",
    "     'n_estimators': [20, 50, 100, 200, 500],\n",
    "     'max_depth': [5, 10, 20, 50, 100],\n",
    "     'bootstrap': [True, False],\n",
    "  }\n",
    "\n",
    "forest_clf = RandomForestClassifier(random_state=42)\n",
    "forest_gs = GridSearchCV(forest_clf, param_grid, cv=5,\n",
    "                         scoring='roc_auc', verbose=10,\n",
    "                         n_jobs=-1)\n",
    "forest_gs.fit(X_train, y_train)"
   ],
   "metadata": {
    "collapsed": false,
    "pycharm": {
     "name": "#%%\n"
    }
   }
  },
  {
   "cell_type": "code",
   "execution_count": 24,
   "outputs": [
    {
     "data": {
      "text/plain": "0.8434674163007199"
     },
     "execution_count": 24,
     "metadata": {},
     "output_type": "execute_result"
    }
   ],
   "source": [
    "forest_gs.best_score_"
   ],
   "metadata": {
    "collapsed": false,
    "pycharm": {
     "name": "#%%\n"
    }
   }
  },
  {
   "cell_type": "code",
   "execution_count": 25,
   "outputs": [
    {
     "data": {
      "text/plain": "{'bootstrap': True, 'max_depth': 5, 'n_estimators': 20}"
     },
     "execution_count": 25,
     "metadata": {},
     "output_type": "execute_result"
    }
   ],
   "source": [
    "forest_gs.best_params_"
   ],
   "metadata": {
    "collapsed": false,
    "pycharm": {
     "name": "#%%\n"
    }
   }
  },
  {
   "cell_type": "code",
   "execution_count": 26,
   "outputs": [
    {
     "data": {
      "text/plain": "0.9568355480261881"
     },
     "execution_count": 26,
     "metadata": {},
     "output_type": "execute_result"
    }
   ],
   "source": [
    "from sklearn.metrics import accuracy_score\n",
    "\n",
    "forest_best = forest_gs.best_estimator_\n",
    "accuracy_score(y_train, forest_best.predict(X_train))"
   ],
   "metadata": {
    "collapsed": false,
    "pycharm": {
     "name": "#%%\n"
    }
   }
  },
  {
   "cell_type": "code",
   "execution_count": 27,
   "outputs": [
    {
     "data": {
      "text/plain": "0.9560590820054"
     },
     "execution_count": 27,
     "metadata": {},
     "output_type": "execute_result"
    }
   ],
   "source": [
    "accuracy_score(y_test, forest_best.predict(X_test))"
   ],
   "metadata": {
    "collapsed": false,
    "pycharm": {
     "name": "#%%\n"
    }
   }
  },
  {
   "cell_type": "code",
   "execution_count": 28,
   "outputs": [
    {
     "data": {
      "text/plain": "<Figure size 720x576 with 1 Axes>",
      "image/png": "[encoded data removed]"
     },
     "metadata": {
      "needs_background": "light"
     },
     "output_type": "display_data"
    }
   ],
   "source": [
    "from sklearn.metrics import roc_curve\n",
    "from sklearn.metrics import roc_auc_score\n",
    "\n",
    "y_train_pred_score = forest_best.predict_proba(X_train)[:, 1]\n",
    "y_test_pred_score = forest_best.predict_proba(X_test)[:, 1]\n",
    "\n",
    "train_fpr, train_tpr, train_thresholds = roc_curve(y_train, y_train_pred_score)\n",
    "test_fpr, test_tpr, test_thresholds = roc_curve(y_test, y_test_pred_score)\n",
    "\n",
    "train_auc = roc_auc_score(y_train, y_train_pred_score)\n",
    "test_auc = roc_auc_score(y_test, y_test_pred_score)\n",
    "\n",
    "fig, ax = plt.subplots(figsize=(10, 8))\n",
    "ax.plot(train_fpr, train_tpr, label='Train AUC: ' + str(np.round(train_auc, 3)))\n",
    "ax.plot(test_fpr, test_tpr, label='Test AUC: ' + str(np.round(test_auc, 3)))\n",
    "ax.plot([0, 1], [0, 1], 'k--')\n",
    "ax.set_xlabel('False Positive Rate', fontsize=12)\n",
    "ax.set_ylabel('True Positive Rate', fontsize=12)\n",
    "ax.grid(True)\n",
    "ax.legend(loc=\"lower right\", fontsize=12)\n",
    "plt.show()"
   ],
   "metadata": {
    "collapsed": false,
    "pycharm": {
     "name": "#%%\n"
    }
   }
  },
  {
   "cell_type": "code",
   "execution_count": 29,
   "outputs": [
    {
     "data": {
      "text/plain": "<Figure size 720x576 with 1 Axes>",
      "image/png": "[encoded data removed]"
     },
     "metadata": {
      "needs_background": "light"
     },
     "output_type": "display_data"
    }
   ],
   "source": [
    "from sklearn.metrics import precision_recall_curve\n",
    "\n",
    "precisions, recalls, thresholds = precision_recall_curve(y_train, y_train_pred_score)\n",
    "\n",
    "fig, ax = plt.subplots(figsize=(10, 8))\n",
    "ax.plot(thresholds, precisions[:-1], \"b--\", label=\"Precision\", linewidth=2)\n",
    "ax.plot(thresholds, recalls[:-1], \"g-\", label=\"Recall\", linewidth=2)\n",
    "ax.set_xlabel(\"Threshold\", fontsize=12)\n",
    "ax.grid(True)\n",
    "ax.legend(loc=\"lower left\", fontsize=12)\n",
    "plt.show()"
   ],
   "metadata": {
    "collapsed": false,
    "pycharm": {
     "name": "#%%\n"
    }
   }
  },
  {
   "cell_type": "code",
   "execution_count": 30,
   "outputs": [
    {
     "data": {
      "text/plain": "array([3.54715611e-04, 2.83088377e-04, 5.74048142e-01, 1.80081619e-01,\n       2.43634811e-01, 2.35699235e-04, 9.04279141e-05, 8.35193074e-04,\n       1.33954357e-04, 7.47761749e-05, 1.08050331e-05, 1.50532353e-05,\n       8.88967778e-05, 2.74035361e-05, 3.00629217e-05, 5.53512126e-05])"
     },
     "execution_count": 30,
     "metadata": {},
     "output_type": "execute_result"
    }
   ],
   "source": [
    "forest_best.feature_importances_"
   ],
   "metadata": {
    "collapsed": false,
    "pycharm": {
     "name": "#%%\n"
    }
   }
  },
  {
   "cell_type": "code",
   "execution_count": 31,
   "outputs": [],
   "source": [
    "import seaborn as sns\n",
    "\n",
    "def plot_feature_importance(importance, names, model_type):\n",
    "    feature_importance = np.array(importance)\n",
    "    feature_names = np.array(names)\n",
    "\n",
    "    fi_df = pd.DataFrame({'feature_names': feature_names, 'feature_importance': feature_importance})\n",
    "    fi_df.sort_values(by=['feature_importance'], ascending=False, inplace=True)\n",
    "\n",
    "    plt.figure(figsize=(20, 10))\n",
    "    sns.barplot(x=fi_df['feature_importance'], y=fi_df['feature_names'])\n",
    "\n",
    "    plt.title(model_type + ' Feature Importance')\n",
    "    plt.xlabel('Feature Importance')\n",
    "    plt.ylabel('Feature Names')"
   ],
   "metadata": {
    "collapsed": false,
    "pycharm": {
     "name": "#%%\n"
    }
   }
  },
  {
   "cell_type": "code",
   "execution_count": 32,
   "outputs": [
    {
     "data": {
      "text/plain": "<Figure size 1440x720 with 1 Axes>",
      "image/png": "[encoded data removed]"
     },
     "metadata": {
      "needs_background": "light"
     },
     "output_type": "display_data"
    }
   ],
   "source": [
    "plot_feature_importance(forest_best.feature_importances_, X_train.columns, 'Random Forest')"
   ],
   "metadata": {
    "collapsed": false,
    "pycharm": {
     "name": "#%%\n"
    }
   }
  },
  {
   "cell_type": "code",
   "execution_count": null,
   "outputs": [],
   "source": [],
   "metadata": {
    "collapsed": false,
    "pycharm": {
     "name": "#%%\n"
    }
   }
  }
 ],
 "metadata": {
  "kernelspec": {
   "display_name": "Python 3",
   "language": "python",
   "name": "python3"
  },
  "language_info": {
   "codemirror_mode": {
    "name": "ipython",
    "version": 2
   },
   "file_extension": ".py",
   "mimetype": "text/x-python",
   "name": "python",
   "nbconvert_exporter": "python",
   "pygments_lexer": "ipython2",
   "version": "2.7.6"
  }
 },
 "nbformat": 4,
 "nbformat_minor": 0
}